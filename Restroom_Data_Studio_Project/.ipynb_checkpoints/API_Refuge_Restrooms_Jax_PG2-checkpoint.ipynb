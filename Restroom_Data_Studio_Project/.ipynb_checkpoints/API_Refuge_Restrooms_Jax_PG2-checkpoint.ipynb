{
 "cells": [
  {
   "cell_type": "code",
   "execution_count": 8,
   "id": "beb09e50",
   "metadata": {},
   "outputs": [
    {
     "data": {
      "text/plain": [
       "<Response [200]>"
      ]
     },
     "execution_count": 8,
     "metadata": {},
     "output_type": "execute_result"
    }
   ],
   "source": [
    "#What is the URL we want, and lets import our things\n",
    "import requests\n",
    "import json\n",
    "response = requests.get(\"https://www.refugerestrooms.org/api/v1/restrooms/by_location?page=2&per_page=75&offset=0&ada=true&unisex=true&lat=30.3321838&lng=-81.65565099999999\")\n",
    "jax_bathrooms = response\n",
    "response"
   ]
  },
  {
   "cell_type": "code",
   "execution_count": 9,
   "id": "b062300d",
   "metadata": {},
   "outputs": [
    {
     "data": {
      "text/plain": [
       "<bound method Response.json of <Response [200]>>"
      ]
     },
     "execution_count": 9,
     "metadata": {},
     "output_type": "execute_result"
    }
   ],
   "source": [
    "response.json\n",
    "#I think this means it worked"
   ]
  },
  {
   "cell_type": "code",
   "execution_count": 10,
   "id": "896b85cc",
   "metadata": {},
   "outputs": [
    {
     "data": {
      "text/plain": [
       "<Response [200]>"
      ]
     },
     "execution_count": 10,
     "metadata": {},
     "output_type": "execute_result"
    }
   ],
   "source": [
    "#Labeling, renaming, and confirming that it came in correecrtly \n",
    "response_API = requests.get(\"https://www.refugerestrooms.org/api/v1/restrooms/by_location?page=2&per_page=75&offset=0&ada=true&unisex=true&lat=30.3321838&lng=-81.65565099999999\")\n",
    "jax_bathrooms = response_API\n",
    "response_API"
   ]
  },
  {
   "cell_type": "code",
   "execution_count": 11,
   "id": "7d2e5b45",
   "metadata": {},
   "outputs": [
    {
     "data": {
      "text/plain": [
       "'[{\"id\":30399,\"name\":\"Clay behavioral health center lobby\",\"street\":\"3292 county road 220\",\"city\":\"Middleburg\",\"state\":\"FL\",\"accessible\":true,\"unisex\":true,\"directions\":\"Both restrooms are immediately next to the front door. \",\"comment\":\"Don\\'t need to be a patient, if you feel compelled to say anything at all tell them you\\'re waiting on a patient.\",\"latitude\":30.0964335,\"longitude\":-81.8223142,\"created_at\":\"2017-02-26T13:37:27.491Z\",\"updated_at\":\"2020-04-14T21:16:09.843Z\",\"downvote\":0,\"upvote\":0,\"country\":\"US\",\"changing_table\":false,\"edit_id\":30399,\"approved\":true,\"distance\":19.087828103767073,\"bearing\":\"215.258323767435\"}]'"
      ]
     },
     "execution_count": 11,
     "metadata": {},
     "output_type": "execute_result"
    }
   ],
   "source": [
    "data = response_API.text\n",
    "parse_json = json.loads(data)\n",
    "data"
   ]
  },
  {
   "cell_type": "code",
   "execution_count": 12,
   "id": "6b2e72bc",
   "metadata": {},
   "outputs": [],
   "source": [
    "import pandas as pd\n",
    "df = pd.read_json(data)"
   ]
  },
  {
   "cell_type": "code",
   "execution_count": 13,
   "id": "b0b5b819",
   "metadata": {},
   "outputs": [
    {
     "name": "stdout",
     "output_type": "stream",
     "text": [
      "      id                                 name                street  \\\n",
      "0  30399  Clay behavioral health center lobby  3292 county road 220   \n",
      "\n",
      "         city state  accessible  unisex  \\\n",
      "0  Middleburg    FL        True    True   \n",
      "\n",
      "                                          directions  \\\n",
      "0  Both restrooms are immediately next to the fro...   \n",
      "\n",
      "                                             comment   latitude  ...  \\\n",
      "0  Don't need to be a patient, if you feel compel...  30.096433  ...   \n",
      "\n",
      "                        created_at                       updated_at downvote  \\\n",
      "0 2017-02-26 13:37:27.491000+00:00 2020-04-14 21:16:09.843000+00:00        0   \n",
      "\n",
      "   upvote  country changing_table  edit_id  approved   distance     bearing  \n",
      "0       0       US          False    30399      True  19.087828  215.258324  \n",
      "\n",
      "[1 rows x 21 columns]\n"
     ]
    }
   ],
   "source": [
    "print(df)\n",
    "#YAY"
   ]
  },
  {
   "cell_type": "code",
   "execution_count": 14,
   "id": "3bf94014",
   "metadata": {},
   "outputs": [],
   "source": [
    "#...well this looks like not the full set of data i want, but at least this is the proper format!\n",
    "df.to_csv('jax_restrooms_pg2.csv', index=False)"
   ]
  },
  {
   "cell_type": "code",
   "execution_count": null,
   "id": "0508303c",
   "metadata": {},
   "outputs": [],
   "source": []
  },
  {
   "cell_type": "code",
   "execution_count": null,
   "id": "c66b1e3c",
   "metadata": {},
   "outputs": [],
   "source": []
  }
 ],
 "metadata": {
  "kernelspec": {
   "display_name": "Python 3 (ipykernel)",
   "language": "python",
   "name": "python3"
  },
  "language_info": {
   "codemirror_mode": {
    "name": "ipython",
    "version": 3
   },
   "file_extension": ".py",
   "mimetype": "text/x-python",
   "name": "python",
   "nbconvert_exporter": "python",
   "pygments_lexer": "ipython3",
   "version": "3.11.0rc2"
  }
 },
 "nbformat": 4,
 "nbformat_minor": 5
}
