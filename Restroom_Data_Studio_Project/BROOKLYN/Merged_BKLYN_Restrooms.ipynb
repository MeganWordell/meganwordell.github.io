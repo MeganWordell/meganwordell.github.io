{
 "cells": [
  {
   "cell_type": "code",
   "execution_count": 1,
   "id": "6482ce8f",
   "metadata": {},
   "outputs": [],
   "source": [
    "import pandas as pd\n",
    "\n",
    "df1 = pd.read_csv(\"bklyn_restrooms_pg1.csv\")\n",
    "df2 = pd.read_csv(\"bklyn_restrooms_pg2.csv\")\n",
    "df3 = pd.read_csv(\"bklyn_restrooms_pg3.csv\")\n",
    "df4 = pd.read_csv(\"bklyn_restrooms_pg4.csv\")\n",
    "df5 = pd.read_csv(\"bklyn_restrooms_pg5.csv\")\n",
    "df6 = pd.read_csv(\"bklyn_restrooms_pg6.csv\")\n",
    "\n",
    "merged_df = pd.concat([df1, df2, df3, df4, df5, df6])\n",
    "merged_df.to_csv(\"merged_bklyn_restrooms.csv\", index=False)\n"
   ]
  },
  {
   "cell_type": "code",
   "execution_count": null,
   "id": "ad068ecb",
   "metadata": {},
   "outputs": [],
   "source": []
  }
 ],
 "metadata": {
  "kernelspec": {
   "display_name": "Python 3 (ipykernel)",
   "language": "python",
   "name": "python3"
  },
  "language_info": {
   "codemirror_mode": {
    "name": "ipython",
    "version": 3
   },
   "file_extension": ".py",
   "mimetype": "text/x-python",
   "name": "python",
   "nbconvert_exporter": "python",
   "pygments_lexer": "ipython3",
   "version": "3.11.0rc2"
  }
 },
 "nbformat": 4,
 "nbformat_minor": 5
}
